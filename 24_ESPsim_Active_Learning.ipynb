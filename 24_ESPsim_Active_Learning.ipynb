{
 "cells": [
  {
   "cell_type": "markdown",
   "metadata": {},
   "source": [
    "# __Active Learning using Electostatic Potentials Similarity (ESPsim) as the Oracle__\n",
    "\n",
    "## ESPsim uses 3D-similarity to find molecules with similar shape and pharmacophoric features to the query molecule\n",
    "\n",
    "### Notes\n",
    "The notebook is similar to the 23_Active_learning_regression notebook with a chnage to the oracle\n",
    "\n",
    "## Pat Walters notes\n",
    "Some of the code and data in this notebook was borrowed from other open source projects. \n",
    "\n",
    "- The query and database molecules were taken from the [LitPCBA](https://pubs.acs.org/doi/10.1021/acs.jcim.0c00155) set. \n",
    "\n",
    "- The 3D overlay code came from [ESPSim](https://github.com/hesther/espsim)\n",
    "\n",
    "- Some code was also borrowed from [Lig3DLens](https://github.com/healx/lig3dlens)  \n",
    "\n",
    "Many thanks to the authors of these packages for their commitment to open science. \n",
    "\n",
    "## Requirments for the notebook\n",
    "\n",
    "!pip install 'modAL-python>=0.4.1 useful-rdkit-utils loguru py3Dmol\n",
    "\n",
    "!pip install git+https://github.com/hesther/espsim.git@533a53105858d1a25cbe2fb54dd7208d7989caa1\n"
   ]
  },
  {
   "cell_type": "code",
   "execution_count": 4,
   "metadata": {},
   "outputs": [],
   "source": [
    "import os\n",
    "import requests\n",
    "\n",
    "# Download scripts from the Lig3DLens github repository and data from the Practical Cheminformatics Tutorials repository\n",
    "url_list = [\"https://github.com/healx/lig3dlens/raw/main/lig3dlens/align3D_score.py\",\n",
    "            \"https://github.com/healx/lig3dlens/raw/main/lig3dlens/gen_conformers.py\",\n",
    "            \"https://raw.githubusercontent.com/PatWalters/practical_cheminformatics_tutorials/main/active_learning/data/2chw_lig.sdf\",\n",
    "            \"https://raw.githubusercontent.com/PatWalters/practical_cheminformatics_tutorials/main/active_learning/data/MAPK1.csv\"]\n",
    "file_name = [\"align3D_score.py\", \n",
    "             \"gen_conformers.py\",\n",
    "             \"data/2chw_lig.sdf\",\n",
    "             \"data/MAPK1.csv\"]\n",
    "\n",
    "os.makedirs(\"./data\", exist_ok=True)\n",
    "\n",
    "for url, name in zip(url_list, file_name):\n",
    "    r = requests.get(url)\n",
    "    with open(name, 'wb') as f:\n",
    "        f.write(r.content)"
   ]
  },
  {
   "cell_type": "code",
   "execution_count": 5,
   "metadata": {},
   "outputs": [],
   "source": [
    "from operator import itemgetter\n",
    "\n",
    "import numpy as np\n",
    "import pandas as pd\n",
    "import seaborn as sns\n",
    "import sklearn.gaussian_process as gp\n",
    "import useful_rdkit_utils as uru\n",
    "from modAL.acquisition import BaseLearner\n",
    "from modAL.models import BayesianOptimizer\n",
    "from modAL.utils.data import modALinput\n",
    "from modAL.acquisition import optimizer_PI\n",
    "from rdkit import Chem\n",
    "from sklearn.gaussian_process import GaussianProcessRegressor\n",
    "from tqdm.auto import tqdm\n",
    "from modAL.utils.selection import multi_argmax\n",
    "from align3D_score import score_alignment\n",
    "from gen_conformers import generate_conformers\n",
    "import py3Dmol\n",
    "\n",
    "# Enable progress bar\n",
    "tqdm.pandas(desc=\"Progress\")"
   ]
  },
  {
   "cell_type": "markdown",
   "metadata": {},
   "source": [
    "## Defining Functions\n",
    "\n",
    "Functions to be defined:\n",
    "\n",
    "1. Oracle - Using ESPsim \n",
    "\n",
    "2. Kernel function for the Gaussian Process Regression\n",
    "\n",
    "3. Untility functions:\n",
    "\n",
    "    - find_best_index: Sort the predicted scores, remove the previously selected molecules and return the top compounds that have not been used\n",
    "\n",
    "    - compile_results: Compiles the results from the shape search with the corresponding molecules\n",
    "\n",
    "4. Acquisition function:\n",
    "\n",
    "    - greedy query_strategy\n",
    "\n",
    "    - Maximum Probability of Imporvement query_strategy"
   ]
  },
  {
   "cell_type": "code",
   "execution_count": 64,
   "metadata": {},
   "outputs": [],
   "source": [
    "class ESPsimOracle:\n",
    "    \"\"\"\n",
    "    A class representing an oracle for ESPsim active learning.\n",
    "\n",
    "    Attributes:\n",
    "        ref_molfile (str): The path to the reference molecule file.\n",
    "\n",
    "    Methods:\n",
    "        __init__(self, ref_molfile): Initializes the ESPsimOracle object.\n",
    "        get_values(self, input_smiles_list): Returns a list of alignment scores for the given input SMILES list.\n",
    "    \"\"\"\n",
    "\n",
    "    def __init__(self, ref_molfile):\n",
    "        \"\"\"\n",
    "        Initializes the ESPsimOracle object.\n",
    "\n",
    "        Args:\n",
    "            ref_molfile (str): The path to the reference molecule file. Prepares the reference molecule for 3D generation.\n",
    "        \"\"\"\n",
    "        self.ref_mol = Chem.MolFromMolFile(ref_molfile)\n",
    "        self.ref_mol = Chem.AddHs(self.ref_mol)\n",
    "\n",
    "    def get_values(self, input_smiles_list):\n",
    "        \"\"\"\n",
    "        Returns a list of alignment scores for the given input SMILES list.\n",
    "\n",
    "        Args:\n",
    "            input_smiles_list (list): A list of SMILES strings representing molecules.\n",
    "\n",
    "        Returns:\n",
    "            list: A list of alignment scores for the input molecules.\n",
    "\n",
    "        \"\"\"\n",
    "        result_list = []\n",
    "        for smi in tqdm(input_smiles_list):\n",
    "            result = None\n",
    "            mol = Chem.MolFromSmiles(smi)\n",
    "            if mol:\n",
    "                mol = Chem.AddHs(mol)\n",
    "                mol_3d = generate_conformers(mol, 25)\n",
    "                if mol_3d:\n",
    "                    result = score_alignment(mol_3d, self.ref_mol)\n",
    "            result_list.append(result)\n",
    "        return result_list\n",
    "    \n",
    "\n",
    "def calculate_similarity(a, b):\n",
    "    # Tanimoto similarity a vs. b\n",
    "    aa = np.sum(a, axis=1, keepdims=True)\n",
    "    bb = np.sum(b, axis=1, keepdims=True)\n",
    "    ab = np.matmul(a, b.T)\n",
    "    return np.true_divide(ab, aa + bb.T - ab)\n",
    "\n",
    "\n",
    "class TanimotoKernel(gp.kernels.NormalizedKernelMixin,\n",
    "                     gp.kernels.StationaryKernelMixin, gp.kernels.Kernel):\n",
    "    \"\"\"\n",
    "    TanimotoKernel is a kernel class that calculates the Tanimoto similarity between two sets of data points.\n",
    "\n",
    "    Parameters:\n",
    "    -----------\n",
    "    None\n",
    "\n",
    "    Methods:\n",
    "    --------\n",
    "    __call__(X, Y=None, eval_gradient=False):\n",
    "        Calculates the Tanimoto similarity between two sets of data points.\n",
    "\n",
    "        Parameters:\n",
    "        -----------\n",
    "        X : array-like of shape (n_samples, n_features)\n",
    "            The first set of data points.\n",
    "        Y : array-like of shape (n_samples, n_features), optional\n",
    "            The second set of data points. If not provided, Y is set to X.\n",
    "        eval_gradient : bool, optional\n",
    "            Whether to evaluate the gradient of the Tanimoto similarity. Default is False.\n",
    "\n",
    "        Returns:\n",
    "        --------\n",
    "        similarity : array-like of shape (n_samples, n_samples)\n",
    "            The Tanimoto similarity matrix between X and Y.\n",
    "    \"\"\"\n",
    "    def __init__(self):\n",
    "        pass\n",
    "\n",
    "    def __call__(self, X, Y=None, eval_gradient=False):\n",
    "        assert not eval_gradient\n",
    "        if Y is None:\n",
    "            Y = X\n",
    "        return calculate_similarity(X, Y)\n",
    "    \n",
    "def find_best_idx(predicted, used, num_to_choose):\n",
    "    \"\"\"\n",
    "    Finds the indices of the top `num_to_choose` elements in the `predicted` list that are not present in the `used` list.\n",
    "\n",
    "    Args:\n",
    "        predicted (list): A list of predicted values.\n",
    "        used (list): A list of indices that have already been used.\n",
    "        num_to_choose (int): The number of indices to choose.\n",
    "\n",
    "    Returns:\n",
    "        list: A list of the top `num_to_choose` indices from the `predicted` list that are not present in the `used` list.\n",
    "    \"\"\"\n",
    "    tmp_list = list(enumerate(predicted))\n",
    "    tmp_list.sort(key=itemgetter(1), reverse=True)\n",
    "    tmp_list = [x for x in tmp_list if x[0] not in used]\n",
    "    tmp_list = [x[0] for x in tmp_list]\n",
    "    return tmp_list[:num_to_choose]\n",
    "\n",
    "def compile_ESP_results(df_in, shape_results):\n",
    "    \"\"\"\n",
    "    Compiles ESP results into a DataFrame.\n",
    "\n",
    "    Args:\n",
    "        df_in (pandas.DataFrame): The input DataFrame.\n",
    "        shape_results (list): A list of shape results.\n",
    "\n",
    "    Returns:\n",
    "        pandas.DataFrame: The compiled DataFrame with shape results and scores.\n",
    "    \"\"\"\n",
    "    # Making a column and filling it with the shape results\n",
    "    df_in['shape_results'] = shape_results\n",
    "    # Drop rows with no shape results\n",
    "    df_in.dropna(subset='shape_results', inplace=True)\n",
    "    # Calculate scores for scores in shape_results column with the corresponding functions\n",
    "    df_in[\"score\"] = [x.shape_score + x.esp_score + x.rdkit_score for x in df_in[\"shape_results\"]]\n",
    "\n",
    "    return df_in\n",
    "\n",
    "def greedy(optimizer: BaseLearner, X: modALinput, n_instances=1, used=[]):\n",
    "    \"\"\"\n",
    "    Selects the next instance(s) to query using the greedy strategy.\n",
    "\n",
    "    Args:\n",
    "        optimizer (BaseLearner): The active learning model used for prediction.\n",
    "        X (modALinput): The input data.\n",
    "        n_instances (int): The number of instances to select.\n",
    "        used (list): A list of indices of instances that have already been used.\n",
    "\n",
    "    Returns:\n",
    "        tuple: A tuple containing the index of the best instance(s) and the corresponding instance(s) from X.\n",
    "    \"\"\"\n",
    "    res = optimizer.predict(X)\n",
    "    best_idx = find_best_idx(res, used, n_instances)\n",
    "    return best_idx, X[best_idx]\n",
    "\n",
    "def maximize_PI(optimizer: BaseLearner, X: modALinput, tradeoff: float = 0,\n",
    "        n_instances: int = 1, used = [], cycle = -1) -> np.ndarray:\n",
    "    \"\"\"\n",
    "    Finds the instances with the maximum probability of improvement (PI) using the given optimizer.\n",
    "\n",
    "    Parameters:\n",
    "    - optimizer (BaseLearner): The optimizer used to calculate the PI.\n",
    "    - X (modALinput): The input data.\n",
    "    - tradeoff (float): The tradeoff parameter for calculating PI.\n",
    "    - n_instances (int): The number of instances to select.\n",
    "    - used (list): The list of instances already used.\n",
    "    - cycle (int): The current cycle number.\n",
    "\n",
    "    Returns:\n",
    "    - best_idx (np.ndarray): The indices of the instances with the maximum PI.\n",
    "    - X[best_idx] (np.ndarray): The instances with the maximum PI.\n",
    "    \"\"\"\n",
    "    pi = optimizer_PI(optimizer, X, tradeoff=tradeoff)\n",
    "    best_idx = find_best_idx(pi, used, n_instances)\n",
    "    return best_idx, X[best_idx]"
   ]
  },
  {
   "cell_type": "code",
   "execution_count": 77,
   "metadata": {},
   "outputs": [
    {
     "data": {
      "text/html": [
       "<div>\n",
       "<style scoped>\n",
       "    .dataframe tbody tr th:only-of-type {\n",
       "        vertical-align: middle;\n",
       "    }\n",
       "\n",
       "    .dataframe tbody tr th {\n",
       "        vertical-align: top;\n",
       "    }\n",
       "\n",
       "    .dataframe thead th {\n",
       "        text-align: right;\n",
       "    }\n",
       "</style>\n",
       "<table border=\"1\" class=\"dataframe\">\n",
       "  <thead>\n",
       "    <tr style=\"text-align: right;\">\n",
       "      <th></th>\n",
       "      <th>SMILES</th>\n",
       "      <th>Name</th>\n",
       "      <th>active</th>\n",
       "    </tr>\n",
       "  </thead>\n",
       "  <tbody>\n",
       "    <tr>\n",
       "      <th>0</th>\n",
       "      <td>O=C(c1ccncc1)C23C[N@@]4C[N@@](C[NH+](C4)C2)C3</td>\n",
       "      <td>7975332</td>\n",
       "      <td>0</td>\n",
       "    </tr>\n",
       "    <tr>\n",
       "      <th>1</th>\n",
       "      <td>CCN(c1cccc(C)c1)S(=O)(=O)c2cccc3nsnc23</td>\n",
       "      <td>4241206</td>\n",
       "      <td>0</td>\n",
       "    </tr>\n",
       "    <tr>\n",
       "      <th>2</th>\n",
       "      <td>CC1CCCCN1c2nnc(N)s2</td>\n",
       "      <td>4243040</td>\n",
       "      <td>0</td>\n",
       "    </tr>\n",
       "    <tr>\n",
       "      <th>3</th>\n",
       "      <td>CN1C(=O)C2(C(=C([NH3+])Oc3[nH]nc(c4ccc(Cl)cc4)...</td>\n",
       "      <td>862502</td>\n",
       "      <td>0</td>\n",
       "    </tr>\n",
       "    <tr>\n",
       "      <th>4</th>\n",
       "      <td>CCOc1ccc(cc1OCC)C(=O)Nc2nnc(C)s2</td>\n",
       "      <td>7977049</td>\n",
       "      <td>0</td>\n",
       "    </tr>\n",
       "  </tbody>\n",
       "</table>\n",
       "</div>"
      ],
      "text/plain": [
       "                                              SMILES     Name  active\n",
       "0      O=C(c1ccncc1)C23C[N@@]4C[N@@](C[NH+](C4)C2)C3  7975332       0\n",
       "1             CCN(c1cccc(C)c1)S(=O)(=O)c2cccc3nsnc23  4241206       0\n",
       "2                                CC1CCCCN1c2nnc(N)s2  4243040       0\n",
       "3  CN1C(=O)C2(C(=C([NH3+])Oc3[nH]nc(c4ccc(Cl)cc4)...   862502       0\n",
       "4                   CCOc1ccc(cc1OCC)C(=O)Nc2nnc(C)s2  7977049       0"
      ]
     },
     "execution_count": 77,
     "metadata": {},
     "output_type": "execute_result"
    }
   ],
   "source": [
    "# Read in data\n",
    "df = pd.read_csv(\"data/MAPK1.csv\")  \n",
    "#df = df.iloc[:20].copy()\n",
    "\n",
    "# We will not be using the activity column\n",
    "df.active.value_counts()\n",
    "df.head()\n"
   ]
  },
  {
   "cell_type": "code",
   "execution_count": 74,
   "metadata": {},
   "outputs": [
    {
     "data": {
      "application/vnd.jupyter.widget-view+json": {
       "model_id": "867ecec09dba444782e73bcb5c0731dd",
       "version_major": 2,
       "version_minor": 0
      },
      "text/plain": [
       "Progress:   0%|          | 0/62937 [00:00<?, ?it/s]"
      ]
     },
     "metadata": {},
     "output_type": "display_data"
    }
   ],
   "source": [
    "# Generate fingerprints\n",
    "df[\"fp\"] = df.SMILES.progress_apply(uru.smi2numpy_fp)\n",
    "\n",
    "# Create a pool of fingerprints for the AL algorithm to draw from\n",
    "X_pool = np.stack(df.fp.values)"
   ]
  },
  {
   "cell_type": "markdown",
   "metadata": {},
   "source": [
    "## Run Active Learning and Analyze the results"
   ]
  },
  {
   "cell_type": "code",
   "execution_count": 75,
   "metadata": {},
   "outputs": [
    {
     "data": {
      "application/vnd.jupyter.widget-view+json": {
       "model_id": "712eb49cfbb942bbbee253c1b36f3652",
       "version_major": 2,
       "version_minor": 0
      },
      "text/plain": [
       "  0%|          | 0/100 [00:00<?, ?it/s]"
      ]
     },
     "metadata": {},
     "output_type": "display_data"
    },
    {
     "name": "stdout",
     "output_type": "stream",
     "text": [
      "(100, 4)\n"
     ]
    },
    {
     "data": {
      "application/vnd.jupyter.widget-view+json": {
       "model_id": "3c27c14adc58457d96f6bf74be83b34a",
       "version_major": 2,
       "version_minor": 0
      },
      "text/plain": [
       "  0%|          | 0/100 [00:00<?, ?it/s]"
      ]
     },
     "metadata": {},
     "output_type": "display_data"
    },
    {
     "name": "stdout",
     "output_type": "stream",
     "text": [
      "(100, 6)\n",
      "(100, 7)\n",
      "(100, 4)\n"
     ]
    },
    {
     "data": {
      "application/vnd.jupyter.widget-view+json": {
       "model_id": "8c5b5e0b2c9849c58446eeb2362743e0",
       "version_major": 2,
       "version_minor": 0
      },
      "text/plain": [
       "  0%|          | 0/100 [00:00<?, ?it/s]"
      ]
     },
     "metadata": {},
     "output_type": "display_data"
    },
    {
     "name": "stdout",
     "output_type": "stream",
     "text": [
      "(100, 6)\n",
      "(100, 7)\n",
      "(100, 4)\n"
     ]
    },
    {
     "data": {
      "application/vnd.jupyter.widget-view+json": {
       "model_id": "51eeb21b74fc47a0b6b7b55b7ad48562",
       "version_major": 2,
       "version_minor": 0
      },
      "text/plain": [
       "  0%|          | 0/100 [00:00<?, ?it/s]"
      ]
     },
     "metadata": {},
     "output_type": "display_data"
    },
    {
     "name": "stdout",
     "output_type": "stream",
     "text": [
      "(100, 6)\n",
      "(100, 7)\n",
      "(100, 4)\n"
     ]
    },
    {
     "data": {
      "application/vnd.jupyter.widget-view+json": {
       "model_id": "11e581428299461b9a24c5b31e2bafaa",
       "version_major": 2,
       "version_minor": 0
      },
      "text/plain": [
       "  0%|          | 0/100 [00:00<?, ?it/s]"
      ]
     },
     "metadata": {},
     "output_type": "display_data"
    },
    {
     "name": "stdout",
     "output_type": "stream",
     "text": [
      "(100, 6)\n",
      "(100, 7)\n",
      "(100, 4)\n"
     ]
    },
    {
     "data": {
      "application/vnd.jupyter.widget-view+json": {
       "model_id": "d626926c62724c0c8d6871d74231e53a",
       "version_major": 2,
       "version_minor": 0
      },
      "text/plain": [
       "  0%|          | 0/100 [00:00<?, ?it/s]"
      ]
     },
     "metadata": {},
     "output_type": "display_data"
    },
    {
     "name": "stdout",
     "output_type": "stream",
     "text": [
      "(100, 6)\n",
      "(100, 7)\n"
     ]
    }
   ],
   "source": [
    "# Create the oracle \n",
    "oracle = ESPsimOracle(\"data/2chw_lig.sdf\")\n",
    "\n",
    "### Create the active learning \n",
    "\n",
    "# Number of molecules for each AL cycle\n",
    "n_instances = 100\n",
    "\n",
    "# Number of cycles to run\n",
    "n_cycles = 5\n",
    "\n",
    "# Define the query strategy\n",
    "query_strategy = maximize_PI\n",
    "\n",
    "# Select a random initial sample using pandas sample function\n",
    "sample_df = df.sample(n_instances).copy()\n",
    "sample_df['cycles'] = 0\n",
    "\n",
    "# Calculate the shape scores of the initial random sample\n",
    "init_shape_results = oracle.get_values(sample_df[\"SMILES\"].values)\n",
    "\n",
    "# Compile the results\n",
    "sample_df = compile_ESP_results(sample_df, init_shape_results)\n",
    "\n",
    "# Defining the X and y train of the initial model\n",
    "X_init = sample_df.fp.values\n",
    "y_init = sample_df.score.values\n",
    "\n",
    "# Initiate the optimizer with an estimator, training data and acquisition function\n",
    "optimizer = BayesianOptimizer(estimator=GaussianProcessRegressor(kernel=TanimotoKernel()), \n",
    "                        X_training=np.stack(X_init), \n",
    "                        y_training=y_init, \n",
    "                        query_strategy=query_strategy)\n",
    "\n",
    "# Initialize the results list\n",
    "results_list = []\n",
    "used = list(sample_df.index)\n",
    "\n",
    "# Active learning loop\n",
    "for i in range(0, n_cycles):\n",
    "\n",
    "    # query optimizaer for next set of molecules\n",
    "    # Input:The query function needs X_pool and then any number of parameters required \n",
    "    # from the query stradegy variable you initiated\n",
    "    # Output: The molecule index and the corresponding values\n",
    "    query_index, query_desc = optimizer.query(X_pool,\n",
    "                                              n_instances=n_instances,\n",
    "                                              used=used)\n",
    "    \n",
    "    # Create a dataframe with the next set of molecules\n",
    "    tmp_df = df.iloc[query_index].copy()\n",
    "    print(tmp_df.shape)\n",
    "    # Get shape scores\n",
    "    shape_results = oracle.get_values(tmp_df[\"SMILES\"].values)\n",
    "\n",
    "    # Compile the results\n",
    "    tmp_df = compile_ESP_results(tmp_df, shape_results)\n",
    "    print(tmp_df.shape)\n",
    "    # Add the cycle number to keep track of the cycles\n",
    "    tmp_df['cycles'] = i + 1\n",
    "    print(tmp_df.shape)\n",
    "    # add the results to the results list\n",
    "    results_list.append(tmp_df)\n",
    "\n",
    "    # Update used variable to keep track of used molecules\n",
    "    #used = used + list(tmp_df.index)\n",
    "    used += list(tmp_df.index)\n",
    "\n",
    "    # Update optimizer with new values\n",
    "    #optimizer.teach(query_desc, tmp_df.score.values)\n",
    "    optimizer.teach(np.stack(tmp_df.fp.values), tmp_df.score.values)\n",
    "\n",
    "\n",
    "\n",
    "   "
   ]
  },
  {
   "cell_type": "code",
   "execution_count": 76,
   "metadata": {},
   "outputs": [
    {
     "name": "stdout",
     "output_type": "stream",
     "text": [
      "500\n"
     ]
    },
    {
     "name": "stderr",
     "output_type": "stream",
     "text": [
      "/Users/luke_zondagh_m1/Softwares/miniforge3/envs/PatWalters_tutorial/lib/python3.11/site-packages/seaborn/_oldcore.py:1119: FutureWarning: use_inf_as_na option is deprecated and will be removed in a future version. Convert inf values to NaN before operating instead.\n",
      "  with pd.option_context('mode.use_inf_as_na', True):\n"
     ]
    },
    {
     "data": {
      "text/plain": [
       "<seaborn.axisgrid.FacetGrid at 0x1479bfcd0>"
      ]
     },
     "execution_count": 76,
     "metadata": {},
     "output_type": "execute_result"
    },
    {
     "data": {
      "image/png": "[encoded data removed]",
      "text/plain": [
       "<Figure size 500x500 with 1 Axes>"
      ]
     },
     "metadata": {},
     "output_type": "display_data"
    }
   ],
   "source": [
    "# Compile the results to a single dataframe\n",
    "results_df = pd.concat(results_list)\n",
    "print(len(results_df))\n",
    "\n",
    "# Plot distribution of scores\n",
    "sns.displot(x=\"score\", data=results_df)\n"
   ]
  },
  {
   "cell_type": "code",
   "execution_count": 80,
   "metadata": {},
   "outputs": [
    {
     "data": {
      "application/vnd.jupyter.widget-view+json": {
       "model_id": "11d11f4fd20b4c5888f245f322dc2b0c",
       "version_major": 2,
       "version_minor": 0
      },
      "text/plain": [
       "  0%|          | 0/600 [00:00<?, ?it/s]"
      ]
     },
     "metadata": {},
     "output_type": "display_data"
    },
    {
     "name": "stderr",
     "output_type": "stream",
     "text": [
      "/Users/luke_zondagh_m1/Softwares/miniforge3/envs/PatWalters_tutorial/lib/python3.11/site-packages/seaborn/_oldcore.py:1119: FutureWarning: use_inf_as_na option is deprecated and will be removed in a future version. Convert inf values to NaN before operating instead.\n",
      "  with pd.option_context('mode.use_inf_as_na', True):\n"
     ]
    },
    {
     "data": {
      "text/plain": [
       "<seaborn.axisgrid.FacetGrid at 0x14756fa10>"
      ]
     },
     "execution_count": 80,
     "metadata": {},
     "output_type": "execute_result"
    },
    {
     "data": {
      "image/png": "[encoded data removed]",
      "text/plain": [
       "<Figure size 500x500 with 1 Axes>"
      ]
     },
     "metadata": {},
     "output_type": "display_data"
    }
   ],
   "source": [
    "# Run Random selection search to compare with AL\n",
    "random_df = df.sample(600).copy()\n",
    "random_shape_results = oracle.get_values(random_df[\"SMILES\"].values)\n",
    "random_df = compile_ESP_results(random_df, random_shape_results)\n",
    "\n",
    "# Plotting distribution of random selection\n",
    "sns.displot(x=\"score\", data=random_df)"
   ]
  },
  {
   "cell_type": "code",
   "execution_count": 81,
   "metadata": {},
   "outputs": [
    {
     "data": {
      "image/png": "[encoded data removed]",
      "text/plain": [
       "<Figure size 640x480 with 1 Axes>"
      ]
     },
     "metadata": {},
     "output_type": "display_data"
    }
   ],
   "source": [
    "# Comparing AL and random slection scores\n",
    "active_top_100_df = results_df.sort_values(\"score\",ascending=False).head(100)\n",
    "active_top_100_df['dataset'] = \"active learning\"\n",
    "random_top_100_df = random_df.sort_values(\"score\",ascending=False).head(100)\n",
    "random_top_100_df['dataset'] = \"random\"\n",
    "plot_df = pd.concat([active_top_100_df, random_top_100_df])\n",
    "sns.boxplot(x=\"dataset\",y=\"score\",data=plot_df);"
   ]
  },
  {
   "cell_type": "code",
   "execution_count": 101,
   "metadata": {},
   "outputs": [
    {
     "data": {
      "text/html": [
       "<div>\n",
       "<style scoped>\n",
       "    .dataframe tbody tr th:only-of-type {\n",
       "        vertical-align: middle;\n",
       "    }\n",
       "\n",
       "    .dataframe tbody tr th {\n",
       "        vertical-align: top;\n",
       "    }\n",
       "\n",
       "    .dataframe thead th {\n",
       "        text-align: right;\n",
       "    }\n",
       "</style>\n",
       "<table border=\"1\" class=\"dataframe\">\n",
       "  <thead>\n",
       "    <tr style=\"text-align: right;\">\n",
       "      <th></th>\n",
       "      <th>used_mols</th>\n",
       "    </tr>\n",
       "  </thead>\n",
       "  <tbody>\n",
       "    <tr>\n",
       "      <th>0</th>\n",
       "      <td>20812</td>\n",
       "    </tr>\n",
       "    <tr>\n",
       "      <th>1</th>\n",
       "      <td>50358</td>\n",
       "    </tr>\n",
       "    <tr>\n",
       "      <th>2</th>\n",
       "      <td>58996</td>\n",
       "    </tr>\n",
       "    <tr>\n",
       "      <th>3</th>\n",
       "      <td>15887</td>\n",
       "    </tr>\n",
       "    <tr>\n",
       "      <th>4</th>\n",
       "      <td>15314</td>\n",
       "    </tr>\n",
       "    <tr>\n",
       "      <th>...</th>\n",
       "      <td>...</td>\n",
       "    </tr>\n",
       "    <tr>\n",
       "      <th>595</th>\n",
       "      <td>50848</td>\n",
       "    </tr>\n",
       "    <tr>\n",
       "      <th>596</th>\n",
       "      <td>31115</td>\n",
       "    </tr>\n",
       "    <tr>\n",
       "      <th>597</th>\n",
       "      <td>33321</td>\n",
       "    </tr>\n",
       "    <tr>\n",
       "      <th>598</th>\n",
       "      <td>34010</td>\n",
       "    </tr>\n",
       "    <tr>\n",
       "      <th>599</th>\n",
       "      <td>43025</td>\n",
       "    </tr>\n",
       "  </tbody>\n",
       "</table>\n",
       "<p>600 rows × 1 columns</p>\n",
       "</div>"
      ],
      "text/plain": [
       "     used_mols\n",
       "0        20812\n",
       "1        50358\n",
       "2        58996\n",
       "3        15887\n",
       "4        15314\n",
       "..         ...\n",
       "595      50848\n",
       "596      31115\n",
       "597      33321\n",
       "598      34010\n",
       "599      43025\n",
       "\n",
       "[600 rows x 1 columns]"
      ]
     },
     "execution_count": 101,
     "metadata": {},
     "output_type": "execute_result"
    }
   ],
   "source": [
    "\n",
    "\n",
    "used_mols = pd.DataFrame(used, columns=[\"used_mols\"])\n",
    "used_mols"
   ]
  },
  {
   "cell_type": "code",
   "execution_count": 109,
   "metadata": {},
   "outputs": [
    {
     "data": {
      "text/plain": [
       "Text(0.5, 0, 'Active Learning Cycle')"
      ]
     },
     "execution_count": 109,
     "metadata": {},
     "output_type": "execute_result"
    },
    {
     "data": {
      "image/png": "[encoded data removed]",
      "text/plain": [
       "<Figure size 640x480 with 1 Axes>"
      ]
     },
     "metadata": {},
     "output_type": "display_data"
    }
   ],
   "source": [
    "# Plot scores of molecules selected for each cycle\n",
    "ax = sns.boxplot(x=\"cycles\", y=\"score\", data=results_df,color=\"lightblue\")\n",
    "ax.set_xlabel(\"Active Learning Cycle\")"
   ]
  },
  {
   "cell_type": "markdown",
   "metadata": {},
   "source": [
    "## Let's look at the highest scoring overlay and make sure our results make sense. We'll use [Py3DMol](https://pypi.org/project/py3Dmol/) to do this."
   ]
  },
  {
   "cell_type": "code",
   "execution_count": 124,
   "metadata": {},
   "outputs": [
    {
     "data": {
      "application/3dmoljs_load.v0": "<div id=\"3dmolviewer_17139701393971279\"  style=\"position: relative; width: 640px; height: 480px;\">\n        <p id=\"3dmolwarning_17139701393971279\" style=\"background-color:#ffcccc;color:black\">3Dmol.js failed to load for some reason.  Please check your browser console for error messages.<br></p>\n        </div>\n<script>\n\nvar loadScriptAsync = function(uri){\n  return new Promise((resolve, reject) => {\n    //this is to ignore the existence of requirejs amd\n    var savedexports, savedmodule;\n    if (typeof exports !== 'undefined') savedexports = exports;\n    else exports = {}\n    if (typeof module !== 'undefined') savedmodule = module;\n    else module = {}\n\n    var tag = document.createElement('script');\n    tag.src = uri;\n    tag.async = true;\n    tag.onload = () => {\n        exports = savedexports;\n        module = savedmodule;\n        resolve();\n    };\n  var firstScriptTag = document.getElementsByTagName('script')[0];\n  firstScriptTag.parentNode.insertBefore(tag, firstScriptTag);\n});\n};\n\nif(typeof $3Dmolpromise === 'undefined') {\n$3Dmolpromise = null;\n  $3Dmolpromise = loadScriptAsync('https://cdnjs.cloudflare.com/ajax/libs/3Dmol/2.1.0/3Dmol-min.js');\n}\n\nvar viewer_17139701393971279 = null;\nvar warn = document.getElementById(\"3dmolwarning_17139701393971279\");\nif(warn) {\n    warn.parentNode.removeChild(warn);\n}\n$3Dmolpromise.then(function() {\nviewer_17139701393971279 = $3Dmol.createViewer(document.getElementById(\"3dmolviewer_17139701393971279\"),{backgroundColor:\"white\"});\nviewer_17139701393971279.zoomTo();\n\tviewer_17139701393971279.addModel(\"2CHW_ligand2\\n     RDKit          3D\\n\\n 31 35  0  0  1  0  0  0  0  0999 V2000\\n   50.8990   16.3190   31.0490 C   0  0  0  0  0  0  0  0  0  0  0  0\\n   49.8180   16.4300   31.9910 O   0  0  0  0  0  0  0  0  0  0  0  0\\n   49.0900   17.5720   31.8950 C   0  0  0  0  0  0  0  0  0  0  0  0\\n   49.4830   18.6530   31.1140 C   0  0  0  0  0  0  0  0  0  0  0  0\\n   48.6960   19.8030   31.0690 C   0  0  0  0  0  0  0  0  0  0  0  0\\n   47.5060   19.8780   31.8010 C   0  0  0  0  0  0  0  0  0  0  0  0\\n   47.1210   18.7960   32.5900 C   0  0  0  0  0  0  0  0  0  0  0  0\\n   47.9120   17.6500   32.6170 C   0  0  0  0  0  0  0  0  0  0  0  0\\n   47.4980   16.5900   33.4170 N   0  0  0  0  0  0  0  0  0  0  0  0\\n   48.0760   16.4810   34.6750 C   0  0  0  0  0  0  0  0  0  0  0  0\\n   48.9180   17.3100   34.9960 O   0  0  0  0  0  0  0  0  0  0  0  0\\n   47.6950   15.4550   35.5310 C   0  0  0  0  0  0  0  0  0  0  0  0\\n   48.2370   15.2870   36.8230 C   0  0  0  0  0  0  0  0  0  0  0  0\\n   49.4490   16.3440   37.5170 Cl  0  0  0  0  0  0  0  0  0  0  0  0\\n   47.7970   14.2260   37.6120 C   0  0  0  0  0  0  0  0  0  0  0  0\\n   46.8480   13.3370   37.1520 C   0  0  0  0  0  0  0  0  0  0  0  0\\n   46.3170   13.5250   35.8880 C   0  0  0  0  0  0  0  0  0  0  0  0\\n   46.7300   14.5650   35.0630 C   0  0  0  0  0  0  0  0  0  0  0  0\\n   46.1850   14.6820   33.8300 N   0  0  0  0  0  0  0  0  0  0  0  0\\n   46.5280   15.6630   32.9870 C   0  0  0  0  0  0  0  0  0  0  0  0\\n   45.9320   15.7890   31.5640 C   0  0  0  0  0  0  0  0  0  0  0  0\\n   44.6330   14.5990   31.0330 S   0  0  0  0  0  0  0  0  0  0  0  0\\n   45.2080   13.0480   30.3300 C   0  0  0  0  0  0  0  0  0  0  0  0\\n   46.5170   12.6520   30.2720 C   0  0  0  0  0  0  0  0  0  0  0  0\\n   47.6430   13.2240   30.6340 N   0  0  0  0  0  0  0  0  0  0  0  0\\n   48.6300   12.3630   30.3220 C   0  0  0  0  0  0  0  0  0  0  0  0\\n   48.1340   11.2520   29.7580 N   0  0  0  0  0  0  0  0  0  0  0  0\\n   46.8160   11.3990   29.7150 C   0  0  0  0  0  0  0  0  0  0  0  0\\n   45.8470   10.5960   29.2640 N   0  0  0  0  0  0  0  0  0  0  0  0\\n   44.5940   11.0010   29.3190 C   0  0  0  0  0  0  0  0  0  0  0  0\\n   44.2880   12.1810   29.8280 N   0  0  0  0  0  0  0  0  0  0  0  0\\n  1  2  1  0\\n  2  3  1  0\\n  3  4  2  0\\n  3  8  1  0\\n  4  5  1  0\\n  5  6  2  0\\n  6  7  1  0\\n  7  8  2  0\\n  8  9  1  0\\n  9 10  1  0\\n  9 20  1  0\\n 10 11  2  0\\n 10 12  1  0\\n 12 13  2  0\\n 12 18  1  0\\n 13 14  1  0\\n 13 15  1  0\\n 15 16  2  0\\n 16 17  1  0\\n 17 18  2  0\\n 18 19  1  0\\n 19 20  2  0\\n 20 21  1  0\\n 21 22  1  0\\n 22 23  1  0\\n 23 24  2  0\\n 23 31  1  0\\n 24 25  1  0\\n 24 28  1  0\\n 25 26  2  0\\n 26 27  1  0\\n 27 28  1  0\\n 28 29  2  0\\n 29 30  1  0\\n 30 31  2  0\\nM  END\\n\",\"mol\");\n\tviewer_17139701393971279.addModel(\"\\n     RDKit          3D\\n\\n 22 24  0  0  0  0  0  0  0  0999 V2000\\n   49.2845   20.0656   30.1384 C   0  0  0  0  0  0  0  0  0  0  0  0\\n   48.6205   19.1911   31.1806 C   0  0  0  0  0  0  0  0  0  0  0  0\\n   47.7438   19.7210   31.8457 O   0  0  0  0  0  0  0  0  0  0  0  0\\n   49.0843   17.7993   31.2978 C   0  0  0  0  0  0  0  0  0  0  0  0\\n   50.0863   17.3025   30.5000 N   0  0  0  0  0  0  0  0  0  0  0  0\\n   50.3453   16.0281   30.7805 C   0  0  0  0  0  0  0  0  0  0  0  0\\n   51.2338   15.0758   30.2859 C   0  0  0  0  0  0  0  0  0  0  0  0\\n   51.2754   13.7929   30.7833 C   0  0  0  0  0  0  0  0  0  0  0  0\\n   50.4085   13.4554   31.7980 C   0  0  0  0  0  0  0  0  0  0  0  0\\n   49.5168   14.4182   32.2915 C   0  0  0  0  0  0  0  0  0  0  0  0\\n   49.4751   15.7064   31.7929 C   0  0  0  0  0  0  0  0  0  0  0  0\\n   48.7126   16.8018   32.0956 N   0  0  0  0  0  0  0  0  0  0  0  0\\n   47.5227   16.8491   33.3064 S   0  0  0  0  0  6  0  0  0  0  0  0\\n   46.5282   15.7020   33.0607 O   0  0  0  0  0  0  0  0  0  0  0  0\\n   46.7323   18.0904   33.3087 O   0  0  0  0  0  0  0  0  0  0  0  0\\n   48.1402   16.5716   34.9264 C   0  0  0  0  0  0  0  0  0  0  0  0\\n   48.7333   17.6111   35.6127 C   0  0  0  0  0  0  0  0  0  0  0  0\\n   49.2149   17.4460   36.8848 C   0  0  0  0  0  0  0  0  0  0  0  0\\n   49.1332   16.2378   37.5449 C   0  0  0  0  0  0  0  0  0  0  0  0\\n   49.7428   16.0064   39.1707 Cl  0  0  0  0  0  0  0  0  0  0  0  0\\n   48.5344   15.2150   36.8336 C   0  0  0  0  0  0  0  0  0  0  0  0\\n   48.0459   15.3599   35.5596 C   0  0  0  0  0  0  0  0  0  0  0  0\\n  1  2  1  0\\n  2  3  2  0\\n  2  4  1  0\\n  4  5  2  0\\n  5  6  1  0\\n  6  7  2  0\\n  7  8  1  0\\n  8  9  2  0\\n  9 10  1  0\\n 10 11  2  0\\n 11 12  1  0\\n 12 13  1  0\\n 13 14  2  0\\n 13 15  2  0\\n 13 16  1  0\\n 16 17  2  0\\n 17 18  1  0\\n 18 19  2  0\\n 19 20  1  0\\n 19 21  1  0\\n 21 22  2  0\\n 12  4  1  0\\n 11  6  1  0\\n 22 16  1  0\\nM  END\\n\",\"mol\");\n\tviewer_17139701393971279.setStyle({\"model\": 0},{\"stick\": {\"colorscheme\": \"greenCarbon\"}});\n\tviewer_17139701393971279.setStyle({\"model\": 1},{\"stick\": {\"colorscheme\": \"magentaCarbon\"}});\n\tviewer_17139701393971279.zoomTo();\nviewer_17139701393971279.render();\n});\n</script>",
      "text/html": [
       "<div id=\"3dmolviewer_17139701393971279\"  style=\"position: relative; width: 640px; height: 480px;\">\n",
       "        <p id=\"3dmolwarning_17139701393971279\" style=\"background-color:#ffcccc;color:black\">3Dmol.js failed to load for some reason.  Please check your browser console for error messages.<br></p>\n",
       "        </div>\n",
       "<script>\n",
       "\n",
       "var loadScriptAsync = function(uri){\n",
       "  return new Promise((resolve, reject) => {\n",
       "    //this is to ignore the existence of requirejs amd\n",
       "    var savedexports, savedmodule;\n",
       "    if (typeof exports !== 'undefined') savedexports = exports;\n",
       "    else exports = {}\n",
       "    if (typeof module !== 'undefined') savedmodule = module;\n",
       "    else module = {}\n",
       "\n",
       "    var tag = document.createElement('script');\n",
       "    tag.src = uri;\n",
       "    tag.async = true;\n",
       "    tag.onload = () => {\n",
       "        exports = savedexports;\n",
       "        module = savedmodule;\n",
       "        resolve();\n",
       "    };\n",
       "  var firstScriptTag = document.getElementsByTagName('script')[0];\n",
       "  firstScriptTag.parentNode.insertBefore(tag, firstScriptTag);\n",
       "});\n",
       "};\n",
       "\n",
       "if(typeof $3Dmolpromise === 'undefined') {\n",
       "$3Dmolpromise = null;\n",
       "  $3Dmolpromise = loadScriptAsync('https://cdnjs.cloudflare.com/ajax/libs/3Dmol/2.1.0/3Dmol-min.js');\n",
       "}\n",
       "\n",
       "var viewer_17139701393971279 = null;\n",
       "var warn = document.getElementById(\"3dmolwarning_17139701393971279\");\n",
       "if(warn) {\n",
       "    warn.parentNode.removeChild(warn);\n",
       "}\n",
       "$3Dmolpromise.then(function() {\n",
       "viewer_17139701393971279 = $3Dmol.createViewer(document.getElementById(\"3dmolviewer_17139701393971279\"),{backgroundColor:\"white\"});\n",
       "viewer_17139701393971279.zoomTo();\n",
       "\tviewer_17139701393971279.addModel(\"2CHW_ligand2\\n     RDKit          3D\\n\\n 31 35  0  0  1  0  0  0  0  0999 V2000\\n   50.8990   16.3190   31.0490 C   0  0  0  0  0  0  0  0  0  0  0  0\\n   49.8180   16.4300   31.9910 O   0  0  0  0  0  0  0  0  0  0  0  0\\n   49.0900   17.5720   31.8950 C   0  0  0  0  0  0  0  0  0  0  0  0\\n   49.4830   18.6530   31.1140 C   0  0  0  0  0  0  0  0  0  0  0  0\\n   48.6960   19.8030   31.0690 C   0  0  0  0  0  0  0  0  0  0  0  0\\n   47.5060   19.8780   31.8010 C   0  0  0  0  0  0  0  0  0  0  0  0\\n   47.1210   18.7960   32.5900 C   0  0  0  0  0  0  0  0  0  0  0  0\\n   47.9120   17.6500   32.6170 C   0  0  0  0  0  0  0  0  0  0  0  0\\n   47.4980   16.5900   33.4170 N   0  0  0  0  0  0  0  0  0  0  0  0\\n   48.0760   16.4810   34.6750 C   0  0  0  0  0  0  0  0  0  0  0  0\\n   48.9180   17.3100   34.9960 O   0  0  0  0  0  0  0  0  0  0  0  0\\n   47.6950   15.4550   35.5310 C   0  0  0  0  0  0  0  0  0  0  0  0\\n   48.2370   15.2870   36.8230 C   0  0  0  0  0  0  0  0  0  0  0  0\\n   49.4490   16.3440   37.5170 Cl  0  0  0  0  0  0  0  0  0  0  0  0\\n   47.7970   14.2260   37.6120 C   0  0  0  0  0  0  0  0  0  0  0  0\\n   46.8480   13.3370   37.1520 C   0  0  0  0  0  0  0  0  0  0  0  0\\n   46.3170   13.5250   35.8880 C   0  0  0  0  0  0  0  0  0  0  0  0\\n   46.7300   14.5650   35.0630 C   0  0  0  0  0  0  0  0  0  0  0  0\\n   46.1850   14.6820   33.8300 N   0  0  0  0  0  0  0  0  0  0  0  0\\n   46.5280   15.6630   32.9870 C   0  0  0  0  0  0  0  0  0  0  0  0\\n   45.9320   15.7890   31.5640 C   0  0  0  0  0  0  0  0  0  0  0  0\\n   44.6330   14.5990   31.0330 S   0  0  0  0  0  0  0  0  0  0  0  0\\n   45.2080   13.0480   30.3300 C   0  0  0  0  0  0  0  0  0  0  0  0\\n   46.5170   12.6520   30.2720 C   0  0  0  0  0  0  0  0  0  0  0  0\\n   47.6430   13.2240   30.6340 N   0  0  0  0  0  0  0  0  0  0  0  0\\n   48.6300   12.3630   30.3220 C   0  0  0  0  0  0  0  0  0  0  0  0\\n   48.1340   11.2520   29.7580 N   0  0  0  0  0  0  0  0  0  0  0  0\\n   46.8160   11.3990   29.7150 C   0  0  0  0  0  0  0  0  0  0  0  0\\n   45.8470   10.5960   29.2640 N   0  0  0  0  0  0  0  0  0  0  0  0\\n   44.5940   11.0010   29.3190 C   0  0  0  0  0  0  0  0  0  0  0  0\\n   44.2880   12.1810   29.8280 N   0  0  0  0  0  0  0  0  0  0  0  0\\n  1  2  1  0\\n  2  3  1  0\\n  3  4  2  0\\n  3  8  1  0\\n  4  5  1  0\\n  5  6  2  0\\n  6  7  1  0\\n  7  8  2  0\\n  8  9  1  0\\n  9 10  1  0\\n  9 20  1  0\\n 10 11  2  0\\n 10 12  1  0\\n 12 13  2  0\\n 12 18  1  0\\n 13 14  1  0\\n 13 15  1  0\\n 15 16  2  0\\n 16 17  1  0\\n 17 18  2  0\\n 18 19  1  0\\n 19 20  2  0\\n 20 21  1  0\\n 21 22  1  0\\n 22 23  1  0\\n 23 24  2  0\\n 23 31  1  0\\n 24 25  1  0\\n 24 28  1  0\\n 25 26  2  0\\n 26 27  1  0\\n 27 28  1  0\\n 28 29  2  0\\n 29 30  1  0\\n 30 31  2  0\\nM  END\\n\",\"mol\");\n",
       "\tviewer_17139701393971279.addModel(\"\\n     RDKit          3D\\n\\n 22 24  0  0  0  0  0  0  0  0999 V2000\\n   49.2845   20.0656   30.1384 C   0  0  0  0  0  0  0  0  0  0  0  0\\n   48.6205   19.1911   31.1806 C   0  0  0  0  0  0  0  0  0  0  0  0\\n   47.7438   19.7210   31.8457 O   0  0  0  0  0  0  0  0  0  0  0  0\\n   49.0843   17.7993   31.2978 C   0  0  0  0  0  0  0  0  0  0  0  0\\n   50.0863   17.3025   30.5000 N   0  0  0  0  0  0  0  0  0  0  0  0\\n   50.3453   16.0281   30.7805 C   0  0  0  0  0  0  0  0  0  0  0  0\\n   51.2338   15.0758   30.2859 C   0  0  0  0  0  0  0  0  0  0  0  0\\n   51.2754   13.7929   30.7833 C   0  0  0  0  0  0  0  0  0  0  0  0\\n   50.4085   13.4554   31.7980 C   0  0  0  0  0  0  0  0  0  0  0  0\\n   49.5168   14.4182   32.2915 C   0  0  0  0  0  0  0  0  0  0  0  0\\n   49.4751   15.7064   31.7929 C   0  0  0  0  0  0  0  0  0  0  0  0\\n   48.7126   16.8018   32.0956 N   0  0  0  0  0  0  0  0  0  0  0  0\\n   47.5227   16.8491   33.3064 S   0  0  0  0  0  6  0  0  0  0  0  0\\n   46.5282   15.7020   33.0607 O   0  0  0  0  0  0  0  0  0  0  0  0\\n   46.7323   18.0904   33.3087 O   0  0  0  0  0  0  0  0  0  0  0  0\\n   48.1402   16.5716   34.9264 C   0  0  0  0  0  0  0  0  0  0  0  0\\n   48.7333   17.6111   35.6127 C   0  0  0  0  0  0  0  0  0  0  0  0\\n   49.2149   17.4460   36.8848 C   0  0  0  0  0  0  0  0  0  0  0  0\\n   49.1332   16.2378   37.5449 C   0  0  0  0  0  0  0  0  0  0  0  0\\n   49.7428   16.0064   39.1707 Cl  0  0  0  0  0  0  0  0  0  0  0  0\\n   48.5344   15.2150   36.8336 C   0  0  0  0  0  0  0  0  0  0  0  0\\n   48.0459   15.3599   35.5596 C   0  0  0  0  0  0  0  0  0  0  0  0\\n  1  2  1  0\\n  2  3  2  0\\n  2  4  1  0\\n  4  5  2  0\\n  5  6  1  0\\n  6  7  2  0\\n  7  8  1  0\\n  8  9  2  0\\n  9 10  1  0\\n 10 11  2  0\\n 11 12  1  0\\n 12 13  1  0\\n 13 14  2  0\\n 13 15  2  0\\n 13 16  1  0\\n 16 17  2  0\\n 17 18  1  0\\n 18 19  2  0\\n 19 20  1  0\\n 19 21  1  0\\n 21 22  2  0\\n 12  4  1  0\\n 11  6  1  0\\n 22 16  1  0\\nM  END\\n\",\"mol\");\n",
       "\tviewer_17139701393971279.setStyle({\"model\": 0},{\"stick\": {\"colorscheme\": \"greenCarbon\"}});\n",
       "\tviewer_17139701393971279.setStyle({\"model\": 1},{\"stick\": {\"colorscheme\": \"magentaCarbon\"}});\n",
       "\tviewer_17139701393971279.zoomTo();\n",
       "viewer_17139701393971279.render();\n",
       "});\n",
       "</script>"
      ]
     },
     "metadata": {},
     "output_type": "display_data"
    }
   ],
   "source": [
    "# Read in quer molecule\n",
    "query_mol = Chem.MolFromMolFile(\"data/2chw_lig.sdf\")\n",
    "\n",
    "# Get the molecule with the higherst score from results file\n",
    "db_mol = results_df.sort_values(\"score\",ascending=False).shape_results.iloc[499].best_mol\n",
    "db_mol = Chem.RemoveHs(db_mol)  \n",
    "\n",
    "# Convert molecules to molblocks for py3DMol\n",
    "query_mblock = Chem.MolToMolBlock(query_mol)\n",
    "db_mblock = Chem.MolToMolBlock(db_mol)\n",
    "\n",
    "# Create a 3D viewer\n",
    "view = py3Dmol.view()\n",
    "\n",
    "# Add query molecule and dbmol to viewer\n",
    "view.addModel(query_mblock,'mol')\n",
    "view.addModel(db_mblock,'mol')\n",
    "\n",
    "# Colour molecules\n",
    "view.setStyle({\"model\" : 0}, {\"stick\": {\"colorscheme\": \"greenCarbon\"}})\n",
    "view.setStyle({\"model\" : 1}, {\"stick\": {\"colorscheme\": \"magentaCarbon\"}})\n",
    "\n",
    "\n",
    "# Zoom in and show the molecules\n",
    "view.zoomTo()\n",
    "view.show()"
   ]
  },
  {
   "cell_type": "code",
   "execution_count": null,
   "metadata": {},
   "outputs": [],
   "source": []
  }
 ],
 "metadata": {
  "kernelspec": {
   "display_name": "PatWalters_tutorial",
   "language": "python",
   "name": "python3"
  },
  "language_info": {
   "codemirror_mode": {
    "name": "ipython",
    "version": 3
   },
   "file_extension": ".py",
   "mimetype": "text/x-python",
   "name": "python",
   "nbconvert_exporter": "python",
   "pygments_lexer": "ipython3",
   "version": "3.11.8"
  }
 },
 "nbformat": 4,
 "nbformat_minor": 2
}
