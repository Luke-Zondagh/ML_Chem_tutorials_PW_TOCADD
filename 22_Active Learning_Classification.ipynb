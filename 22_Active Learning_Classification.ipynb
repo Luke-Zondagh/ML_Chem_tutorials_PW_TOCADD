{
 "cells": [
  {
   "cell_type": "markdown",
   "metadata": {},
   "source": [
    "# Active learning using a classification model\n",
    "__Colab link__: [Active Classification](https://github.com/PatWalters/practical_cheminformatics_tutorials?tab=readme-ov-file)\n",
    "\n",
    "In active learning (AL), we use a machine learning (ML) model as a surrogate for a more computationally expensive method.  Let's say we want to dock millions of molecules, but have limited computational resources.  We could sample a subset of the molecules we want to dock and dock the subset.  The chemical structures and docking scores for the subset could then be used to build an ML model to predict the docking scores for the entire set of molecules. In AL, we perform multiple cycles of this prediction and sampling workflow. Throughout the process, we want to balance two parameters.\n",
    "\n",
    "- Exploration - efficiently search the chemical space and identify the most promising regions\n",
    "\n",
    "- Explotation - focus the search on the most interesting regions of chemical space\n",
    "\n",
    "### Steps for AL - image on Pat Walters google colab is very informative\n",
    "\n",
    "1. Begin with a pool of M molecules\n",
    "\n",
    "2. Sample N molecules from the pool\n",
    "\n",
    "3. Perform the computationally expensive calculations on the subset of N molecules.  If our objective is docking, we dock the N molecules.\n",
    "\n",
    "4. The chemical structures and docking scores for the N molecules are used to build an ML model\n",
    "\n",
    "5. The model from step 4 ised to predict values for the M molecules from step 1\n",
    "\n",
    "6. The predictions from the previous step are used to select another set of N molecules.  There are several ways to do this.  One of the simplest is a **greedy** search where we select the N best scoring molecules.  Alternately, we can employ strategies that use the uncertainty in the predictions to direct exploration.\n",
    "\n",
    "7. Perform the computationally expensive calculations on the molecules selected in step 6. If our objective is docking, we would dock the N molecules.\n",
    "\n",
    "8. The results from step 7 are combined with the results from step 3 and the model is retrained.\n",
    "Steps 4 through 8 can be repeated multiple times\n",
    "\n",
    "In the example below, we use AL to dock a set of 100K molecules.  To make this exercise more time efficient, we'll look up the activity rather performing the docking. \n",
    "\n",
    "The code below uses [modAL](\"https://github.com/modAL-python/modAL), an open source library for active learning. Modal provides several different AL strategies.\n",
    "\n",
    "## Requirements for notebook\n",
    "\n",
    "!pip install pandas numpy seaborn useful_rdkit_utils tqdm scikit-learn modAL-python\n"
   ]
  },
  {
   "cell_type": "code",
   "execution_count": 65,
   "metadata": {},
   "outputs": [],
   "source": [
    "import numpy as np\n",
    "import pandas as pd\n",
    "import seaborn as sns\n",
    "import useful_rdkit_utils as uru\n",
    "from modAL.models import ActiveLearner\n",
    "from sklearn.ensemble import RandomForestClassifier\n",
    "from tqdm.auto import tqdm\n",
    "\n",
    "\n",
    "# set up progress bar\n",
    "tqdm.pandas()"
   ]
  },
  {
   "cell_type": "markdown",
   "metadata": {},
   "source": [
    "## Downoad data from the github repo [Traversing_chem_space](\"https://github.com/molML/traversing_chem_space/tree/main\"). \n",
    "\n",
    "The results are from the article [\"Traversing Chemical Space with Active Deep Learning\"](https://chemrxiv.org/engage/chemrxiv/article-details/654a603348dad23120461847)\n",
    "\n",
    "Choose one of the target data sets screen.csv as it has been preprocessed\n",
    "\n"
   ]
  },
  {
   "cell_type": "code",
   "execution_count": 74,
   "metadata": {},
   "outputs": [],
   "source": [
    "# Download data from github repository\n",
    "#url = \"https://github.com/molML/traversing_chem_space/raw/main/data/ALDH1/original/screen.csv\"\n",
    "url = \"https://raw.githubusercontent.com/PatWalters/practical_cheminformatics_tutorials/main/active_learning/data/screen.csv\"\n",
    "df = pd.read_csv(url,sep=\",\",names=[\"SMILES\",\"Activity_label\"], header=None)\n",
    "\n",
    "# Removing first row as it has the labels smiles and y in it\n",
    "df = df.drop(0).reset_index(drop=True)\n",
    "\n",
    "# Save raw Database\n",
    "df.to_csv(\"raw_active_learning_data.csv\", index=False)\n"
   ]
  },
  {
   "cell_type": "code",
   "execution_count": 75,
   "metadata": {},
   "outputs": [
    {
     "data": {
      "application/vnd.jupyter.widget-view+json": {
       "model_id": "bc550c24071643f79783431e6b02d43e",
       "version_major": 2,
       "version_minor": 0
      },
      "text/plain": [
       "  0%|          | 0/100000 [00:00<?, ?it/s]"
      ]
     },
     "metadata": {},
     "output_type": "display_data"
    },
    {
     "name": "stdout",
     "output_type": "stream",
     "text": [
      "(100000, 3)\n"
     ]
    }
   ],
   "source": [
    "# Converting the smiles to fingerprints in a numpy array\n",
    "df[\"fp\"] = df[\"SMILES\"].progress_apply(uru.smi2numpy_fp)\n",
    "\n",
    "print(df.shape)"
   ]
  },
  {
   "cell_type": "code",
   "execution_count": 82,
   "metadata": {},
   "outputs": [
    {
     "data": {
      "text/plain": [
       "Activity_label\n",
       "0    95014\n",
       "1     4986\n",
       "Name: count, dtype: int64"
      ]
     },
     "execution_count": 82,
     "metadata": {},
     "output_type": "execute_result"
    }
   ],
   "source": [
    "# Active is 1 and inactive is \n",
    "df.Activity_label.value_counts()"
   ]
  },
  {
   "cell_type": "code",
   "execution_count": 90,
   "metadata": {},
   "outputs": [
    {
     "data": {
      "text/plain": [
       "SMILES            object\n",
       "Activity_label     int64\n",
       "fp                object\n",
       "dtype: object"
      ]
     },
     "execution_count": 90,
     "metadata": {},
     "output_type": "execute_result"
    }
   ],
   "source": [
    "df['Activity_label'] = df['Activity_label'].astype(int)\n",
    "df.dtypes\n"
   ]
  },
  {
   "cell_type": "code",
   "execution_count": 92,
   "metadata": {},
   "outputs": [
    {
     "name": "stdout",
     "output_type": "stream",
     "text": [
      "Done in 178.641s\n"
     ]
    }
   ],
   "source": [
    "# Converting the data to a numpy array\n",
    "from time import time\n",
    "\n",
    "start_time = time()\n",
    "\n",
    "X_pool = np.stack(df.fp.values)\n",
    "y_pool = df.Activity_label.values\n",
    "\n",
    "print(\"Done in {:.3f}s\".format(time() - start_time)) "
   ]
  },
  {
   "cell_type": "code",
   "execution_count": 93,
   "metadata": {},
   "outputs": [
    {
     "name": "stdout",
     "output_type": "stream",
     "text": [
      "X-shape:(100000, 2048) y-shape:(100000,)\n"
     ]
    },
    {
     "data": {
      "text/html": [
       "<div>\n",
       "<style scoped>\n",
       "    .dataframe tbody tr th:only-of-type {\n",
       "        vertical-align: middle;\n",
       "    }\n",
       "\n",
       "    .dataframe tbody tr th {\n",
       "        vertical-align: top;\n",
       "    }\n",
       "\n",
       "    .dataframe thead th {\n",
       "        text-align: right;\n",
       "    }\n",
       "</style>\n",
       "<table border=\"1\" class=\"dataframe\">\n",
       "  <thead>\n",
       "    <tr style=\"text-align: right;\">\n",
       "      <th></th>\n",
       "      <th>SMILES</th>\n",
       "      <th>Activity_label</th>\n",
       "      <th>fp</th>\n",
       "    </tr>\n",
       "  </thead>\n",
       "  <tbody>\n",
       "    <tr>\n",
       "      <th>0</th>\n",
       "      <td>COc1cc(/C=N/NC(=O)C(=O)NCC2CCCO2)ccc1O</td>\n",
       "      <td>0</td>\n",
       "      <td>[0, 0, 0, 0, 0, 0, 0, 0, 0, 0, 0, 0, 0, 0, 0, ...</td>\n",
       "    </tr>\n",
       "    <tr>\n",
       "      <th>1</th>\n",
       "      <td>CC1CCCCC12NC(=O)N(CC(=O)Nc1ccc(N3CCOCC3)cc1)C2=O</td>\n",
       "      <td>0</td>\n",
       "      <td>[0, 0, 0, 0, 0, 0, 0, 0, 0, 0, 0, 0, 0, 0, 0, ...</td>\n",
       "    </tr>\n",
       "    <tr>\n",
       "      <th>2</th>\n",
       "      <td>C[NH+]1CCCC(OC(=O)c2cccc(Cl)c2)C1</td>\n",
       "      <td>0</td>\n",
       "      <td>[0, 0, 0, 0, 0, 0, 0, 0, 0, 0, 0, 0, 0, 0, 0, ...</td>\n",
       "    </tr>\n",
       "    <tr>\n",
       "      <th>3</th>\n",
       "      <td>CCOc1ccc(C(=O)NCC(=O)OCC(=O)N2CCCC2)cc1</td>\n",
       "      <td>0</td>\n",
       "      <td>[0, 0, 0, 0, 0, 0, 0, 0, 0, 0, 0, 0, 0, 0, 0, ...</td>\n",
       "    </tr>\n",
       "    <tr>\n",
       "      <th>4</th>\n",
       "      <td>Cc1cc2[nH]cnc2cc1[N+](=O)[O-]</td>\n",
       "      <td>0</td>\n",
       "      <td>[0, 0, 0, 0, 0, 0, 0, 0, 0, 0, 0, 0, 0, 0, 0, ...</td>\n",
       "    </tr>\n",
       "  </tbody>\n",
       "</table>\n",
       "</div>"
      ],
      "text/plain": [
       "                                             SMILES  Activity_label  \\\n",
       "0            COc1cc(/C=N/NC(=O)C(=O)NCC2CCCO2)ccc1O               0   \n",
       "1  CC1CCCCC12NC(=O)N(CC(=O)Nc1ccc(N3CCOCC3)cc1)C2=O               0   \n",
       "2                 C[NH+]1CCCC(OC(=O)c2cccc(Cl)c2)C1               0   \n",
       "3           CCOc1ccc(C(=O)NCC(=O)OCC(=O)N2CCCC2)cc1               0   \n",
       "4                     Cc1cc2[nH]cnc2cc1[N+](=O)[O-]               0   \n",
       "\n",
       "                                                  fp  \n",
       "0  [0, 0, 0, 0, 0, 0, 0, 0, 0, 0, 0, 0, 0, 0, 0, ...  \n",
       "1  [0, 0, 0, 0, 0, 0, 0, 0, 0, 0, 0, 0, 0, 0, 0, ...  \n",
       "2  [0, 0, 0, 0, 0, 0, 0, 0, 0, 0, 0, 0, 0, 0, 0, ...  \n",
       "3  [0, 0, 0, 0, 0, 0, 0, 0, 0, 0, 0, 0, 0, 0, 0, ...  \n",
       "4  [0, 0, 0, 0, 0, 0, 0, 0, 0, 0, 0, 0, 0, 0, 0, ...  "
      ]
     },
     "execution_count": 93,
     "metadata": {},
     "output_type": "execute_result"
    }
   ],
   "source": [
    "print(f\"X-shape:{X_pool.shape}\", f\"y-shape:{y_pool.shape}\")\n",
    "df.head()"
   ]
  },
  {
   "cell_type": "markdown",
   "metadata": {},
   "source": [
    "### Initiating the model\n",
    "\n",
    "### Pat Walters notes\n",
    "Here's where we define an oracle to return the results of our calculation.  In this case, we're just looking up a value.  In practice an oracle might perform docking calcuations or something else that's more compute itensive. The notebook 24 **active_shape_search.ipynb** has a complete implementation of an oracle. "
   ]
  },
  {
   "cell_type": "code",
   "execution_count": 98,
   "metadata": {},
   "outputs": [],
   "source": [
    "class Oracle:\n",
    "    \"\"\"\n",
    "    A class representing an Oracle.\n",
    "\n",
    "    The Oracle class provides a way to retrieve values from a given DataFrame.\n",
    "\n",
    "    Attributes:\n",
    "        df (pandas.DataFrame): The DataFrame containing the values.\n",
    "\n",
    "    Methods:\n",
    "        get_values: Retrieves values from the DataFrame based on the given index list.\n",
    "    \"\"\"\n",
    "\n",
    "    def __init__(self, df):\n",
    "        self.df = df\n",
    "\n",
    "    def get_values(self, idx_list):\n",
    "        \"\"\"\n",
    "        Retrieves values from the DataFrame based on the given index list.\n",
    "\n",
    "        Args:\n",
    "            idx_list (list): A list of indices.\n",
    "\n",
    "        Returns:\n",
    "            list: A list of values from the DataFrame.\n",
    "        \"\"\"\n",
    "        return self.df.Activity_label.values[idx_list]\n"
   ]
  },
  {
   "cell_type": "markdown",
   "metadata": {},
   "source": [
    "### Selecting a random set of 100 molecules to build the first initial model."
   ]
  },
  {
   "cell_type": "code",
   "execution_count": 95,
   "metadata": {},
   "outputs": [
    {
     "name": "stdout",
     "output_type": "stream",
     "text": [
      "(100, 2048) (100,)\n"
     ]
    }
   ],
   "source": [
    "# The number of initial samples\n",
    "n_initial = 100\n",
    "\n",
    "# Choosing the initial samples randomly and saving there index position\n",
    "# The random.choice method returns the index in a random state\n",
    "initial_list = np.random.choice(range(len(df)), size=n_initial, replace=False)\n",
    "\n",
    "# Using the initial samples index numbers to select from the pool for X-training and y_training\n",
    "X_train = X_pool[initial_list]\n",
    "y_train = y_pool[initial_list]\n",
    "\n",
    "# Shape of the training data\n",
    "print(X_train.shape, y_train.shape)"
   ]
  },
  {
   "cell_type": "markdown",
   "metadata": {},
   "source": [
    "### Defining the Active learning model use ActiveLearner from modAL\n",
    " \n",
    "It is similar to how the pipeline class works from scikit_learn\n",
    "\n",
    "What the AL does is that it retrains the initial model with additional data that is added to the initial data.\n",
    "\n",
    "Example: model first trained on 100 molecules, next cycle it trains on 100 new and initial 100 molecules for a tortal of 200 molecules.\n",
    "\n",
    "Read ActiveLearner.teach()\n",
    "\n",
    "\n",
    "### Pat Walters notes\n",
    "This class holds the ML model used to preform the active learning. In this case we'll use a RandomForestClassifier from scikit_learn as our ML model.\n",
    "\n",
    "\n",
    "\n"
   ]
  },
  {
   "cell_type": "code",
   "execution_count": 96,
   "metadata": {},
   "outputs": [
    {
     "name": "stdout",
     "output_type": "stream",
     "text": [
      "<class 'numpy.ndarray'>\n",
      "35\n",
      "<class 'numpy.ndarray'>\n",
      "70\n",
      "<class 'numpy.ndarray'>\n",
      "115\n",
      "<class 'numpy.ndarray'>\n",
      "144\n",
      "<class 'numpy.ndarray'>\n",
      "176\n",
      "<class 'numpy.ndarray'>\n",
      "211\n",
      "<class 'numpy.ndarray'>\n",
      "234\n",
      "<class 'numpy.ndarray'>\n",
      "269\n",
      "<class 'numpy.ndarray'>\n",
      "297\n",
      "<class 'numpy.ndarray'>\n",
      "328\n"
     ]
    }
   ],
   "source": [
    "# Defining Actie Learner\n",
    "learner = ActiveLearner(\n",
    "    estimator=RandomForestClassifier(),\n",
    "    X_training=X_train,\n",
    "    y_training=y_train,\n",
    ")\n",
    "\n",
    "# Define the Oracle class that does a simple Lookup\n",
    "oracle = Oracle(df)\n",
    "\n",
    "### Running 10 cycles of active learning\n",
    "\n",
    "# Define a list to keep track of molecules we selected\n",
    "pick_list = initial_list\n",
    "\n",
    "# Number of molecules that will be selected for each iteration\n",
    "n_instances = 100\n",
    "\n",
    "# For loop that run for 10 cycles\n",
    "for i in range(0, 10):\n",
    "    # Query the active learner to select the next 100 molecules\n",
    "    query_idx, query_inst = learner.query(X_pool, n_instances=n_instances)\n",
    "    print(type(query_idx))\n",
    "    # Use the oracle to get the values from the Activity_label column for the newly selected molecules (index)\n",
    "    y_new = oracle.get_values(query_idx)\n",
    "\n",
    "    # Update the model with the new molecules and labels\n",
    "    learner.teach(X_pool[query_idx], y_pool[query_idx])\n",
    "\n",
    "    # Append the newly selected molecules to the list\n",
    "    pick_list = np.append(pick_list, query_idx)\n",
    "    \n",
    "    # print number of actives. (Activity labels are 0 and 1. So the sum will add upp all the actives)\n",
    "    print(sum(y_pool[pick_list]))\n"
   ]
  },
  {
   "cell_type": "markdown",
   "metadata": {},
   "source": [
    "### Building a baseline on a random screen of 1000 compounds to see how many actives we get. \n",
    "\n",
    "We select a molecules at random and determine how many active compounds we for 1000 compounds of 10 cycles of random choosing. The data is NOT agglomerated after each cycle\n",
    "\n",
    "### Results\n",
    "\n",
    "The results show that the number of actives never increase over ~60 actives. When compared to actie learning only the last cycle has 1000 active hits."
   ]
  },
  {
   "cell_type": "code",
   "execution_count": 100,
   "metadata": {},
   "outputs": [
    {
     "name": "stdout",
     "output_type": "stream",
     "text": [
      "[45, 57, 47, 48, 39, 47, 50, 48, 52, 59]\n"
     ]
    }
   ],
   "source": [
    "random_hit_list = []\n",
    "for i in range(0, 10):\n",
    "    random_list = np.random.choice(range(len(df)), size=1000, replace=False)\n",
    "    random_hit_list.append(sum(y_pool[random_list]))\n",
    "\n",
    "print(random_hit_list)"
   ]
  },
  {
   "cell_type": "markdown",
   "metadata": {},
   "source": [
    "### Building a function that will execute AL then running the function for multiple cycles.\n",
    "\n",
    "We will be running the ML for 10 cycles and run the ML function 10 cycles as well.\n",
    "\n",
    "This will allow us to validate the AL method like cross-val in ML"
   ]
  },
  {
   "cell_type": "code",
   "execution_count": 105,
   "metadata": {},
   "outputs": [],
   "source": [
    "# Defining function\n",
    "def run_active_learning(X=X_pool, \n",
    "                        y=y_pool, \n",
    "                        oracle=oracle, \n",
    "                        num_cycles=10, \n",
    "                        n_initial=n_initial, \n",
    "                        n_instances=100,\n",
    "                        X_training=X_train,\n",
    "                        y_training=y_train):\n",
    "    \"\"\"\n",
    "    Runs the active learning process.\n",
    "\n",
    "    Args:\n",
    "        X (array-like): The input features. Defaults to X_pool.\n",
    "        y (array-like): The target labels. Defaults to y_pool.\n",
    "        oracle (object): The oracle object used for querying labels. Defaults to oracle.\n",
    "        num_cycles (int): The number of active learning cycles. Defaults to 10.\n",
    "        n_initial (int): The number of initial instances to select. Defaults to n_initial.\n",
    "        n_instances (int): The number of instances to query in each cycle. Defaults to 100.\n",
    "        X_training (array-like): The training features. Defaults to X_train.\n",
    "        y_training (array-like): The training labels. Defaults to y_train.\n",
    "\n",
    "    Returns:\n",
    "        int: The sum of the target labels for the selected instances.\n",
    "    \"\"\"\n",
    "    \n",
    "    initial_list = np.random.choice(range(len(df)), size=n_initial, replace=False)\n",
    "    pick_list = initial_list\n",
    "    learner = ActiveLearner(\n",
    "        estimator=RandomForestClassifier(),\n",
    "        X_training=X_train, y_training=y_train\n",
    "    )\n",
    "    for i in tqdm(range(0, num_cycles)):\n",
    "        query_idx, query_inst = learner.query(X_pool, n_instances=n_instances)\n",
    "        y_new = oracle.get_values(query_idx)\n",
    "        learner.teach(X_pool[query_idx], y_pool[query_idx])\n",
    "        pick_list = np.append(pick_list, query_idx)\n",
    "    return sum(y[pick_list])\n",
    "    "
   ]
  },
  {
   "cell_type": "code",
   "execution_count": 102,
   "metadata": {},
   "outputs": [
    {
     "data": {
      "application/vnd.jupyter.widget-view+json": {
       "model_id": "ed3618d019264701a1187831f7a167c2",
       "version_major": 2,
       "version_minor": 0
      },
      "text/plain": [
       "  0%|          | 0/10 [00:00<?, ?it/s]"
      ]
     },
     "metadata": {},
     "output_type": "display_data"
    },
    {
     "data": {
      "application/vnd.jupyter.widget-view+json": {
       "model_id": "8dfda3bd5b8743fdab6c8afdc7d2efce",
       "version_major": 2,
       "version_minor": 0
      },
      "text/plain": [
       "  0%|          | 0/10 [00:00<?, ?it/s]"
      ]
     },
     "metadata": {},
     "output_type": "display_data"
    },
    {
     "data": {
      "application/vnd.jupyter.widget-view+json": {
       "model_id": "445f8607e6ee4c5aa0a4f3d61db7c881",
       "version_major": 2,
       "version_minor": 0
      },
      "text/plain": [
       "  0%|          | 0/10 [00:00<?, ?it/s]"
      ]
     },
     "metadata": {},
     "output_type": "display_data"
    },
    {
     "data": {
      "application/vnd.jupyter.widget-view+json": {
       "model_id": "e10153dd2d2f4aed9ed6da7ec12f7bd7",
       "version_major": 2,
       "version_minor": 0
      },
      "text/plain": [
       "  0%|          | 0/10 [00:00<?, ?it/s]"
      ]
     },
     "metadata": {},
     "output_type": "display_data"
    },
    {
     "data": {
      "application/vnd.jupyter.widget-view+json": {
       "model_id": "1946863b24894f0f823fd2e2248c10e2",
       "version_major": 2,
       "version_minor": 0
      },
      "text/plain": [
       "  0%|          | 0/10 [00:00<?, ?it/s]"
      ]
     },
     "metadata": {},
     "output_type": "display_data"
    },
    {
     "data": {
      "application/vnd.jupyter.widget-view+json": {
       "model_id": "6da9e55d07554716bac77650c21b733a",
       "version_major": 2,
       "version_minor": 0
      },
      "text/plain": [
       "  0%|          | 0/10 [00:00<?, ?it/s]"
      ]
     },
     "metadata": {},
     "output_type": "display_data"
    },
    {
     "data": {
      "application/vnd.jupyter.widget-view+json": {
       "model_id": "c82ee12c51e548ea960a6da1918053fc",
       "version_major": 2,
       "version_minor": 0
      },
      "text/plain": [
       "  0%|          | 0/10 [00:00<?, ?it/s]"
      ]
     },
     "metadata": {},
     "output_type": "display_data"
    },
    {
     "data": {
      "application/vnd.jupyter.widget-view+json": {
       "model_id": "abf80794f88a4418975d073b9397c649",
       "version_major": 2,
       "version_minor": 0
      },
      "text/plain": [
       "  0%|          | 0/10 [00:00<?, ?it/s]"
      ]
     },
     "metadata": {},
     "output_type": "display_data"
    },
    {
     "data": {
      "application/vnd.jupyter.widget-view+json": {
       "model_id": "4a516ad665374989b40033812aa999d1",
       "version_major": 2,
       "version_minor": 0
      },
      "text/plain": [
       "  0%|          | 0/10 [00:00<?, ?it/s]"
      ]
     },
     "metadata": {},
     "output_type": "display_data"
    },
    {
     "data": {
      "application/vnd.jupyter.widget-view+json": {
       "model_id": "4b22d33acdbc46fc9fcdf3ce69f02436",
       "version_major": 2,
       "version_minor": 0
      },
      "text/plain": [
       "  0%|          | 0/10 [00:00<?, ?it/s]"
      ]
     },
     "metadata": {},
     "output_type": "display_data"
    }
   ],
   "source": [
    "# Running the AL multiple times and saving last iteraction active hits\n",
    "active_learning_hit_count_list = []\n",
    "for i in range(0, 10):\n",
    "    num_hits = run_active_learning(X_pool, y_pool, oracle)\n",
    "    active_learning_hit_count_list.append(num_hits)"
   ]
  },
  {
   "cell_type": "code",
   "execution_count": 104,
   "metadata": {},
   "outputs": [
    {
     "data": {
      "text/plain": [
       "[338, 348, 357, 332, 330, 347, 326, 305, 348, 333]"
      ]
     },
     "execution_count": 104,
     "metadata": {},
     "output_type": "execute_result"
    }
   ],
   "source": [
    "active_learning_hit_count_list"
   ]
  },
  {
   "cell_type": "code",
   "execution_count": 103,
   "metadata": {},
   "outputs": [
    {
     "data": {
      "text/plain": [
       "<Axes: xlabel='category', ylabel='Count'>"
      ]
     },
     "execution_count": 103,
     "metadata": {},
     "output_type": "execute_result"
    },
    {
     "data": {
      "image/png": "[encoded data removed]",
      "text/plain": [
       "<Figure size 640x480 with 1 Axes>"
      ]
     },
     "metadata": {},
     "output_type": "display_data"
    }
   ],
   "source": [
    "# Plotting the results of AL vs random search\n",
    "# Making a dataframe from the random list\n",
    "random_df = pd.DataFrame(random_hit_list)\n",
    "# Renaming only column of dataframe\n",
    "random_df.columns = [\"Count\"]\n",
    "# Adding a category column and assigning the values to random\n",
    "random_df[\"category\"] = \"random\"\n",
    "\n",
    "# Making a dataframe from the active learning\n",
    "active_df = pd.DataFrame(active_learning_hit_count_list)\n",
    "# Renaming only column of dataframe\n",
    "active_df.columns = [\"Count\"]\n",
    "# Adding a category column and assigning the values to active learning\n",
    "active_df[\"category\"] = \"active_learning\"\n",
    "\n",
    "# Concatenating the two dataframes for plotting\n",
    "rand_AL_df = pd.concat([random_df, active_df])\n",
    "\n",
    "sns.boxplot(data=rand_AL_df, x=\"category\", y=\"Count\")"
   ]
  },
  {
   "cell_type": "code",
   "execution_count": 106,
   "metadata": {},
   "outputs": [
    {
     "data": {
      "text/plain": [
       "6.837398373983739"
      ]
     },
     "execution_count": 106,
     "metadata": {},
     "output_type": "execute_result"
    }
   ],
   "source": [
    "# Calculating enrichment ration of AL vs random\n",
    "np.mean(active_learning_hit_count_list) / np.mean(random_hit_list)\n"
   ]
  },
  {
   "cell_type": "code",
   "execution_count": null,
   "metadata": {},
   "outputs": [],
   "source": []
  }
 ],
 "metadata": {
  "kernelspec": {
   "display_name": "PatWalters_tutorial",
   "language": "python",
   "name": "python3"
  },
  "language_info": {
   "codemirror_mode": {
    "name": "ipython",
    "version": 3
   },
   "file_extension": ".py",
   "mimetype": "text/x-python",
   "name": "python",
   "nbconvert_exporter": "python",
   "pygments_lexer": "ipython3",
   "version": "3.11.8"
  }
 },
 "nbformat": 4,
 "nbformat_minor": 2
}
